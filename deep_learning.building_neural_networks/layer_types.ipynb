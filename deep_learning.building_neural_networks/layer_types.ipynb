{
 "cells": [
  {
   "cell_type": "markdown",
   "metadata": {},
   "source": [
    "# Layer Types Reference"
   ]
  },
  {
   "cell_type": "markdown",
   "metadata": {},
   "source": [
    "\n",
    "<small>🟢 Fundamental 🟡 Common 🟠 Specialized 🔴 Advanced</small>"
   ]
  },
  {
   "cell_type": "markdown",
   "metadata": {},
   "source": [
    "**Linear Layers**\n",
    "\n",
    "| Layer  | PyTorch API | Use case | Found in |\n",
    "|---|---|---|---|\n",
    "| 🟢 Linear (Dense) | [nn.Linear](https://pytorch.org/docs/stable/generated/torch.nn.Linear.html) | Dimensionality increase / decrease (e.g., 256 &rarr; 10 for classification) | Any neural network (MLPs, final layers) |\n",
    "| 🟢 Convolutional | [nn.Conv2d](https://pytorch.org/docs/stable/generated/torch.nn.Conv2d.html) | Extract patterns from images (e.g. edges) using kernels | Any CNN (ResNet, VGG, EfficientNet) |\n",
    "| 🟡 TransposedConv2d | [nn.ConvTranspose2d](https://pytorch.org/docs/stable/generated/torch.nn.ConvTranspose2d.html) | Learnable upsampling for image generation | GANs, U-Net decoders, SRCNN |\n",
    "\n",
    "<details>\n",
    "<summary><small>More Linear</small></summary>\n",
    "\n",
    "| Layer  | PyTorch API | Use case | Found in |\n",
    "|---|---|---|---|\n",
    "| 🟠 Conv1d | [nn.Conv1d](https://pytorch.org/docs/stable/generated/torch.nn.Conv1d.html) | Extract patterns from sequential data | Audio processing, signal analysis |\n",
    "| 🟠 Conv3d | [nn.Conv3d](https://pytorch.org/docs/stable/generated/torch.nn.Conv3d.html) | Extract patterns from 3D data | Video processing, 3D object detection |\n",
    "| 🟠 GroupedConv2d | [nn.Conv2d(groups=n)](https://pytorch.org/docs/stable/generated/torch.nn.Conv2d.html) | Process channels in groups for efficiency | ResNeXt, MobileNet, EfficientNet |\n",
    "| 🟠 DilatedConv2d | [nn.Conv2d(dilation=n)](https://pytorch.org/docs/stable/generated/torch.nn.Conv2d.html) | Sample pixels with gaps to see larger area without more parameters | DeepLab, semantic segmentation |\n",
    "| 🟠 TransposedConv1d | [nn.ConvTranspose1d](https://pytorch.org/docs/stable/generated/torch.nn.ConvTranspose1d.html) | Learnable upsampling for 1D data | Audio generation, speech synthesis |\n",
    "\n",
    "</details>\n"
   ]
  },
  {
   "cell_type": "markdown",
   "metadata": {},
   "source": [
    "**Recurrent Layers**\n",
    "\n",
    "| Layer  | PyTorch API | Use case | Found in |\n",
    "|---|---|---|---|\n",
    "| 🟢 RNN | [nn.RNN](https://pytorch.org/docs/stable/generated/torch.nn.RNN.html) | Simple sequence processing | Teaching, very simple tasks |\n",
    "| 🟢 LSTM | [nn.LSTM](https://pytorch.org/docs/stable/generated/torch.nn.LSTM.html) | Process sequences with long-term dependencies | Traditional NLP, time series |\n",
    "| 🟠 Multihead Attention | [nn.MultiheadAttention](https://pytorch.org/docs/stable/generated/torch.nn.MultiheadAttention.html) | Modern sequence processing with global context | Transformers (BERT, GPT) |\n",
    "\n",
    "<details>\n",
    "<summary><small>More Recurrent</small></summary>\n",
    "\n",
    "| Layer  | PyTorch API | Use case | Found in |\n",
    "|---|---|---|---|\n",
    "| 🟡 GRU | [nn.GRU](https://pytorch.org/docs/stable/generated/torch.nn.GRU.html) | Efficient sequence processing | Lighter NLP models, small datasets |\n",
    "| 🟠 Transformer Encoder | [nn.TransformerEncoder](https://pytorch.org/docs/stable/generated/torch.nn.TransformerEncoder.html) | Bidirectional context processing | BERT, ViT, modern NLP |\n",
    "| 🟠 Transformer Decoder | [nn.TransformerDecoder](https://pytorch.org/docs/stable/generated/torch.nn.TransformerDecoder.html) | Autoregressive sequence generation | GPT, translation models |\n",
    "\n",
    "</details>"
   ]
  },
  {
   "cell_type": "markdown",
   "metadata": {},
   "source": [
    "**Normalization Layers**\n",
    "\n",
    "| Layer  | PyTorch API | Use case | Found in |\n",
    "|---|---|---|---|\n",
    "| 🟢 LayerNorm | [nn.LayerNorm](https://pytorch.org/docs/stable/generated/torch.nn.LayerNorm.html) | Stabilize transformer/MLP training | Transformers, modern architectures |\n",
    "| 🟡 BatchNorm2d | [nn.BatchNorm2d](https://pytorch.org/docs/stable/generated/torch.nn.BatchNorm2d.html) | Stabilize CNN training (also available for 1d and 3d) | Most CNNs (ResNet, DenseNet) |\n",
    "\n",
    "<details>\n",
    "<summary><small>More Normalization</small></summary>\n",
    "\n",
    "| Layer  | PyTorch API | Use case | Found in |\n",
    "|---|---|---|---|\n",
    "| 🟡 GroupNorm | [nn.GroupNorm](https://pytorch.org/docs/stable/generated/torch.nn.GroupNorm.html) | Alternative to BatchNorm for small batches | When batch size is limited, ViTs |\n",
    "| 🟠 InstanceNorm2d | [nn.InstanceNorm2d](https://pytorch.org/docs/stable/generated/torch.nn.InstanceNorm2d.html) | Normalize per instance | Style transfer, GANs, image gen |\n",
    "\n",
    "</details>\n"
   ]
  },
  {
   "cell_type": "markdown",
   "metadata": {},
   "source": [
    "\n",
    "**Non-Linear Activation**\n",
    "\n",
    "| Layer  | PyTorch API | Use case | Found in |\n",
    "|---|---|---|---|\n",
    "| 🟢 ReLU | [nn.ReLU](https://pytorch.org/docs/stable/generated/torch.nn.ReLU.html) | Basic non-linearity | Most neural networks |\n",
    "| 🟢 Softmax | [nn.Softmax](https://pytorch.org/docs/stable/generated/torch.nn.Softmax.html) | Output probabilities (normalizes between 0 and 1, and sums to 1) | Classification outputs |\n",
    "| 🟡 Sigmoid | [nn.Sigmoid](https://pytorch.org/docs/stable/generated/torch.nn.Sigmoid.html) | Output 0-1 range | Binary tasks, gates |\n",
    "| 🟡 Tanh | [nn.Tanh](https://pytorch.org/docs/stable/generated/torch.nn.Tanh.html) | Output -1 to 1 range | GAN generators, RNNs |\n",
    "\n",
    "<details>\n",
    "<summary><small>More Activation</small></summary>\n",
    "\n",
    "| Layer  | PyTorch API | Use case | Found in |\n",
    "|---|---|---|---|\n",
    "| 🟡 LeakyReLU | [nn.LeakyReLU](https://pytorch.org/docs/stable/generated/torch.nn.LeakyReLU.html) | Prevent dying ReLU | GANs, deep networks |\n",
    "| 🟠 GELU | [nn.GELU](https://pytorch.org/docs/stable/generated/torch.nn.GELU.html) | Smooth non-linearity | Transformers (BERT, GPT) |\n",
    "| 🟠 SiLU/Swish | [nn.SiLU](https://pytorch.org/docs/stable/generated/torch.nn.SiLU.html) | Modern ReLU alternative (also see SwiGLU) | EfficientNet, mobile networks |\n",
    "| 🟠 LogSoftmax | [nn.LogSoftmax](https://pytorch.org/docs/stable/generated/torch.nn.LogSoftmax.html) | Numerical stability | With NLLLoss, classification |\n",
    "\n",
    "</details>\n"
   ]
  },
  {
   "cell_type": "markdown",
   "metadata": {},
   "source": [
    "\n",
    "**Regularization**\n",
    "\n",
    "| Layer  | PyTorch API | Use case | Found in |\n",
    "|---|---|---|---|\n",
    "| 🟢 Dropout | [nn.Dropout](https://pytorch.org/docs/stable/generated/torch.nn.Dropout.html) | Prevent overfitting by adding noise to activations | Most networks during training |\n",
    "| 🟡 Dropout2d | [nn.Dropout2d](https://pytorch.org/docs/stable/generated/torch.nn.Dropout2d.html) | Spatial feature regularization | CNNs, spatial tasks |\n"
   ]
  },
  {
   "cell_type": "markdown",
   "metadata": {},
   "source": [
    "\n",
    "**Other / Special**\n",
    "\n",
    "| Layer  | PyTorch API | Use case | Found in |\n",
    "|---|---|---|---|\n",
    "| 🟢 MaxPool2d | [nn.MaxPool2d](https://pytorch.org/docs/stable/generated/torch.nn.MaxPool2d.html) | Downsample keeping strongest features | Traditional CNNs (VGG) |\n",
    "| 🟢 AvgPool2d | [nn.AvgPool2d](https://pytorch.org/docs/stable/generated/torch.nn.AvgPool2d.html) | Downsample preserving average | Modern CNNs (ResNet) |\n",
    "\n",
    "<details>\n",
    "<summary><small>More Special</small></summary>\n",
    "\n",
    "| Layer  | PyTorch API | Use case | Found in |\n",
    "|---|---|---|---|\n",
    "| 🟢 Flatten | [nn.Flatten](https://pytorch.org/docs/stable/generated/torch.nn.Flatten.html) | Convert to 1D | Between Conv and Linear |\n",
    "| 🟢 Embedding | [nn.Embedding](https://pytorch.org/docs/stable/generated/torch.nn.Embedding.html) | Convert categorical data to dense vectors by learning a lookup table | NLP, recommendation systems |\n",
    "| 🟡 AdaptiveAvgPool2d | [nn.AdaptiveAvgPool2d](https://pytorch.org/docs/stable/generated/torch.nn.AdaptiveAvgPool2d.html) | Dynamic size pooling | Modern CNNs, ResNet |\n",
    "| 🟡 Upsample | [nn.Upsample](https://pytorch.org/docs/stable/generated/torch.nn.Upsample.html) | Simple resize/upscale | GANs, image generation |\n",
    "| 🟠 PixelShuffle | [nn.PixelShuffle](https://pytorch.org/docs/stable/generated/torch.nn.PixelShuffle.html) | Efficient upsampling | Super-resolution, ESRGAN |\n",
    "| 🔴 UnFold | [nn.UnFold](https://pytorch.org/docs/stable/generated/torch.nn.Unfold.html) | Extract image patches (rectangular areas in a 2D grid) | Custom convolution ops |\n",
    "| 🔴 Fold | [nn.Fold](https://pytorch.org/docs/stable/generated/torch.nn.Fold.html) | Merge image patches | Custom convolution ops |\n",
    "\n",
    "</details>"
   ]
  }
 ],
 "metadata": {
  "language_info": {
   "name": "python"
  }
 },
 "nbformat": 4,
 "nbformat_minor": 2
}
