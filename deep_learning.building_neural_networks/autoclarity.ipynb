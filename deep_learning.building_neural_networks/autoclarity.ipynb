{
 "cells": [
  {
   "cell_type": "markdown",
   "metadata": {},
   "source": [
    "# Yoga (Project): Autoclarity\n"
   ]
  },
  {
   "cell_type": "markdown",
   "metadata": {},
   "source": [
    "> Objectives:\n",
    ">\n",
    "> - Practice implementing deep neural networks\n",
    ">   - Experiment with layer and bottleneck sizes in autoencoders\n",
    ">   - Experiment with different layer types (convolutional, pooling, dropout, etc.)\n",
    "\n",
    "<small>🤖 AI code generation IS recommended for this notebook.</small>\n",
    "\n",
    "<small>🙋 Have a suggestion for how to improve this file? Please open an issue for [this repo on GitHub](https://github.com/orgs/deepatlasai/repositories). Create a Help Desk ticket in Discord for time-sensitive technical issues.</small>\n"
   ]
  },
  {
   "cell_type": "code",
   "execution_count": null,
   "metadata": {},
   "outputs": [],
   "source": []
  },
  {
   "cell_type": "markdown",
   "metadata": {},
   "source": [
    "## Standard Deep Atlas Exercise Set Up"
   ]
  },
  {
   "cell_type": "markdown",
   "metadata": {},
   "source": [
    "- [ ] Ensure you are using the coursework Pipenv environment and kernel ([instructions](../SETUP.md))\n",
    "- [ ] Apply the standard Deep Atlas environment setup process by running this cell:"
   ]
  },
  {
   "cell_type": "code",
   "execution_count": 8,
   "metadata": {},
   "outputs": [],
   "source": [
    "import sys, os\n",
    "sys.path.insert(0, os.path.join('..', 'includes'))\n",
    "import deep_atlas"
   ]
  },
  {
   "cell_type": "code",
   "execution_count": 11,
   "metadata": {},
   "outputs": [],
   "source": [
    "from torchinfo import summary\n",
    "import matplotlib.pyplot as plt\n",
    "import os\n",
    "import torch\n",
    "import torch.nn as nn\n",
    "import torchvision\n",
    "import torchvision.transforms as transforms\n",
    "\n",
    "\n"
   ]
  },
  {
   "cell_type": "code",
   "execution_count": 13,
   "metadata": {},
   "outputs": [],
   "source": [
    "# # Figure out wandb\n",
    "# import wandb\n",
    "# # os.environ[\"WANDB_NOTEBOOK_NAME\"] = \"autoclarity.ipynb\"\n",
    "# wandb.login(key=\"869ae4e1f889a46f3fa01fd139f167a9f5a9a487\")\n",
    "\n",
    "# wandb.init(project=\"autoclarity\", \n",
    "#            name=\"autoclarity\",\n",
    "#            entity=\"kevincorstorphine\")"
   ]
  },
  {
   "cell_type": "code",
   "execution_count": 14,
   "metadata": {},
   "outputs": [],
   "source": [
    "# Device to translate tensors to:\n",
    "device = torch.device(\n",
    "    \"cuda\" if torch.cuda.is_available()\n",
    "    else \"mps\" if torch.backends.mps.is_available() \n",
    "    else \"cpu\"\n",
    ")\n",
    "\n",
    "# Configuration:\n",
    "batch_size = 64\n",
    "num_epochs = 10\n",
    "learning_rate = 0.001\n",
    "\n",
    "# wandb.config.batch_size = batch_size\n"
   ]
  },
  {
   "cell_type": "markdown",
   "metadata": {},
   "source": [
    "### 🚦 Checkpoint: Start\n",
    "\n",
    "- [ ] Run this cell to record your start time:"
   ]
  },
  {
   "cell_type": "code",
   "execution_count": 2,
   "metadata": {},
   "outputs": [
    {
     "name": "stdout",
     "output_type": "stream",
     "text": [
      "Started at: 2025-05-08T16:27:09.849824\n",
      "🚀 Success! Get started...\n"
     ]
    }
   ],
   "source": [
    "deep_atlas.log_start_time()"
   ]
  },
  {
   "cell_type": "markdown",
   "metadata": {},
   "source": [
    "## Image De-noising with Autoencoders\n"
   ]
  },
  {
   "cell_type": "code",
   "execution_count": null,
   "metadata": {},
   "outputs": [],
   "source": []
  },
  {
   "cell_type": "markdown",
   "metadata": {},
   "source": [
    "Adapt your deep learning knowledge to work on a model that can clean up noisy images.\n",
    "\n",
    "Autoencoders are class of deep neural networks that are constructed to be symmetrical: input values undergo dimensionality reduction in the first half of the network (encoder), and the lower-dimensional embeddings undergo reconstruction in the second half (decoder).\n",
    "\n",
    "![Autoencoder diagram illustrating many input nodes passing information to a smaller number of hidden nodes in the middle, which in turn pass information to output nodes (the same amount as the inputs)](./assets/Ae%202133x1600.png)\n",
    "\n",
    "As such, autoencoders are capable of reconstructing data that is informed by or very closely matches the input.\n",
    "\n",
    "By adjusting the loss calculation, the decoder can be trained to adjust the outputs to achieve a desired affect.\n",
    "\n",
    "For example: By training an autoencoder on noisy images but rewarding it for producing denoised images, we can train an image denoiser!\n",
    "\n",
    "![Examples of images (originals, noisy, and denoised)](./assets/output.png)\n",
    "\n",
    "This is extremely useful for digital cameras, which produce noise when trying to compensate for low light, but can be generalized to any image and dataset cleaning / smoothing tasks like increasing contrast in medical images or performing anomaly detection. \n"
   ]
  },
  {
   "cell_type": "markdown",
   "metadata": {},
   "source": [
    "## Project Goals\n"
   ]
  },
  {
   "cell_type": "markdown",
   "metadata": {},
   "source": [
    "Implement an autoencoder that cleans MNIST images\n",
    "\n",
    "- [ ] Design a model that accepts 784-dimensional vectors and reduces them to some small number of dimensions\n",
    "  - Tip: start with simple model (e.g. stacking linear layers) before exploring more capable architectures.\n",
    "- [ ] Add more layers which increases the dimensions back to the input size.\n",
    "- [ ] Set up a training loop which feeds in noisy versions of the MNIST inputs but is rewarded for reconstructing clean versions.\n",
    "\n",
    "> Hint: This function will add noise to images (you may need to tweak it if your images are not grayscale bitmaps).\n",
    ">\n",
    "> ```py\n",
    "> # Adding noise to the dataset\n",
    "> def add_noise(img):\n",
    ">     noise = torch.randn(img.size()).to(device) * 0.2\n",
    ">     noisy_img = img + noise\n",
    ">     return noisy_img\n",
    "> ```\n",
    "\n",
    "- [ ] Experiment with the following:\n",
    "  - Layer and bottleneck sizes\n",
    "  - Types of layers (convolutional, pooling, dropout, etc.)\n",
    "  - Training hyperparameters (epochs, batch size, etc.)\n"
   ]
  },
  {
   "cell_type": "code",
   "execution_count": 15,
   "metadata": {},
   "outputs": [
    {
     "name": "stdout",
     "output_type": "stream",
     "text": [
      "Downloading http://yann.lecun.com/exdb/mnist/train-images-idx3-ubyte.gz\n",
      "Failed to download (trying next):\n",
      "HTTP Error 404: Not Found\n",
      "\n",
      "Downloading https://ossci-datasets.s3.amazonaws.com/mnist/train-images-idx3-ubyte.gz\n",
      "Downloading https://ossci-datasets.s3.amazonaws.com/mnist/train-images-idx3-ubyte.gz to ./downloads/MNIST/raw/train-images-idx3-ubyte.gz\n"
     ]
    },
    {
     "name": "stderr",
     "output_type": "stream",
     "text": [
      "100%|██████████| 9912422/9912422 [00:01<00:00, 7774917.65it/s] \n"
     ]
    },
    {
     "name": "stdout",
     "output_type": "stream",
     "text": [
      "Extracting ./downloads/MNIST/raw/train-images-idx3-ubyte.gz to ./downloads/MNIST/raw\n",
      "\n",
      "Downloading http://yann.lecun.com/exdb/mnist/train-labels-idx1-ubyte.gz\n",
      "Failed to download (trying next):\n",
      "HTTP Error 404: Not Found\n",
      "\n",
      "Downloading https://ossci-datasets.s3.amazonaws.com/mnist/train-labels-idx1-ubyte.gz\n",
      "Downloading https://ossci-datasets.s3.amazonaws.com/mnist/train-labels-idx1-ubyte.gz to ./downloads/MNIST/raw/train-labels-idx1-ubyte.gz\n"
     ]
    },
    {
     "name": "stderr",
     "output_type": "stream",
     "text": [
      "100%|██████████| 28881/28881 [00:00<00:00, 366407.22it/s]\n"
     ]
    },
    {
     "name": "stdout",
     "output_type": "stream",
     "text": [
      "Extracting ./downloads/MNIST/raw/train-labels-idx1-ubyte.gz to ./downloads/MNIST/raw\n",
      "\n",
      "Downloading http://yann.lecun.com/exdb/mnist/t10k-images-idx3-ubyte.gz\n",
      "Failed to download (trying next):\n",
      "HTTP Error 404: Not Found\n",
      "\n",
      "Downloading https://ossci-datasets.s3.amazonaws.com/mnist/t10k-images-idx3-ubyte.gz\n",
      "Downloading https://ossci-datasets.s3.amazonaws.com/mnist/t10k-images-idx3-ubyte.gz to ./downloads/MNIST/raw/t10k-images-idx3-ubyte.gz\n"
     ]
    },
    {
     "name": "stderr",
     "output_type": "stream",
     "text": [
      "100%|██████████| 1648877/1648877 [00:00<00:00, 3654134.34it/s]\n"
     ]
    },
    {
     "name": "stdout",
     "output_type": "stream",
     "text": [
      "Extracting ./downloads/MNIST/raw/t10k-images-idx3-ubyte.gz to ./downloads/MNIST/raw\n",
      "\n",
      "Downloading http://yann.lecun.com/exdb/mnist/t10k-labels-idx1-ubyte.gz\n",
      "Failed to download (trying next):\n",
      "HTTP Error 404: Not Found\n",
      "\n",
      "Downloading https://ossci-datasets.s3.amazonaws.com/mnist/t10k-labels-idx1-ubyte.gz\n",
      "Downloading https://ossci-datasets.s3.amazonaws.com/mnist/t10k-labels-idx1-ubyte.gz to ./downloads/MNIST/raw/t10k-labels-idx1-ubyte.gz\n"
     ]
    },
    {
     "name": "stderr",
     "output_type": "stream",
     "text": [
      "100%|██████████| 4542/4542 [00:00<00:00, 2466087.87it/s]"
     ]
    },
    {
     "name": "stdout",
     "output_type": "stream",
     "text": [
      "Extracting ./downloads/MNIST/raw/t10k-labels-idx1-ubyte.gz to ./downloads/MNIST/raw\n",
      "\n"
     ]
    },
    {
     "name": "stderr",
     "output_type": "stream",
     "text": [
      "\n"
     ]
    }
   ],
   "source": [
    "# Load data\n",
    "\n",
    "# Transforms\n",
    "transform = transforms.Compose(\n",
    "    [transforms.ToTensor(), transforms.Normalize((0.5,), (0.5,))]\n",
    ")\n",
    "\n",
    "# Datasets\n",
    "train_dataset = torchvision.datasets.MNIST(\n",
    "    root=\"./downloads\", train=True, transform=transform, download=True\n",
    ")\n",
    "test_dataset = torchvision.datasets.MNIST(\n",
    "    root=\"./downloads\", train=False, transform=transform, download=True\n",
    ")\n",
    "\n",
    "# Data-loader\n",
    "train_loader = torch.utils.data.DataLoader(\n",
    "    dataset=train_dataset, batch_size=batch_size, shuffle=True\n",
    ")\n",
    "test_loader = torch.utils.data.DataLoader(\n",
    "    dataset=test_dataset, batch_size=batch_size, shuffle=False)"
   ]
  },
  {
   "cell_type": "code",
   "execution_count": 16,
   "metadata": {},
   "outputs": [],
   "source": [
    "# Adding noise to the dataset\n",
    "def add_noise(img, noise_factor=0.2):\n",
    "    noise = torch.randn(img.size()).to(device) * noise_factor\n",
    "    noisy_img = img + noise\n",
    "    return noisy_img"
   ]
  },
  {
   "cell_type": "code",
   "execution_count": 17,
   "metadata": {},
   "outputs": [],
   "source": [
    "# Linear-Linear-Tanh Autoencoder\n",
    "class Autoencoder_FC(nn.Module):\n",
    "    def __init__(self):\n",
    "        super(Autoencoder_FC, self).__init__()\n",
    "        # Encoder\n",
    "        self.encoder = nn.Sequential(\n",
    "            nn.Linear(28 * 28, 128),\n",
    "            nn.ReLU(True),\n",
    "            nn.Linear(128, 64),\n",
    "            nn.ReLU(True),\n",
    "            nn.Linear(64, 12),  # Compressed representation\n",
    "        )\n",
    "        # Decoder\n",
    "        self.decoder = nn.Sequential(\n",
    "            nn.Linear(12, 64),\n",
    "            nn.ReLU(inplace=True),\n",
    "            nn.Linear(64, 128),\n",
    "            nn.ReLU(True),\n",
    "            nn.Linear(128, 28 * 28),\n",
    "            nn.Tanh(),\n",
    "        )\n",
    "\n",
    "    def forward(self, x):\n",
    "        x = self.encoder(x)\n",
    "        x = self.decoder(x)\n",
    "        return x\n",
    "\n",
    "\n",
    "\n",
    "mlp_model = Autoencoder_FC().to(device)"
   ]
  },
  {
   "cell_type": "markdown",
   "metadata": {},
   "source": []
  },
  {
   "cell_type": "markdown",
   "metadata": {},
   "source": []
  },
  {
   "cell_type": "code",
   "execution_count": 18,
   "metadata": {},
   "outputs": [
    {
     "data": {
      "text/plain": [
       "==========================================================================================\n",
       "Layer (type:depth-idx)                   Output Shape              Param #\n",
       "==========================================================================================\n",
       "Autoencoder_FC                           [64, 784]                 --\n",
       "├─Sequential: 1-1                        [64, 12]                  --\n",
       "│    └─Linear: 2-1                       [64, 128]                 100,480\n",
       "│    └─ReLU: 2-2                         [64, 128]                 --\n",
       "│    └─Linear: 2-3                       [64, 64]                  8,256\n",
       "│    └─ReLU: 2-4                         [64, 64]                  --\n",
       "│    └─Linear: 2-5                       [64, 12]                  780\n",
       "├─Sequential: 1-2                        [64, 784]                 --\n",
       "│    └─Linear: 2-6                       [64, 64]                  832\n",
       "│    └─ReLU: 2-7                         [64, 64]                  --\n",
       "│    └─Linear: 2-8                       [64, 128]                 8,320\n",
       "│    └─ReLU: 2-9                         [64, 128]                 --\n",
       "│    └─Linear: 2-10                      [64, 784]                 101,136\n",
       "│    └─Tanh: 2-11                        [64, 784]                 --\n",
       "==========================================================================================\n",
       "Total params: 219,804\n",
       "Trainable params: 219,804\n",
       "Non-trainable params: 0\n",
       "Total mult-adds (Units.MEGABYTES): 14.07\n",
       "==========================================================================================\n",
       "Input size (MB): 0.20\n",
       "Forward/backward pass size (MB): 0.60\n",
       "Params size (MB): 0.88\n",
       "Estimated Total Size (MB): 1.68\n",
       "=========================================================================================="
      ]
     },
     "execution_count": 18,
     "metadata": {},
     "output_type": "execute_result"
    }
   ],
   "source": [
    "# Use torchinfo summary to get model summary\n",
    "summary(mlp_model, input_size=(batch_size, 28 * 28), device=device)"
   ]
  },
  {
   "cell_type": "code",
   "execution_count": 19,
   "metadata": {},
   "outputs": [],
   "source": [
    "models = {\n",
    "    \"mlp_model\": mlp_model, \n",
    "    \"mlp_model_optimizer\": torch.optim.Adam(\n",
    "        mlp_model.parameters(), lr=learning_rate\n",
    "    ),}"
   ]
  },
  {
   "cell_type": "code",
   "execution_count": 20,
   "metadata": {},
   "outputs": [],
   "source": [
    "criterion = nn.SmoothL1Loss()"
   ]
  },
  {
   "cell_type": "code",
   "execution_count": null,
   "metadata": {},
   "outputs": [
    {
     "name": "stdout",
     "output_type": "stream",
     "text": [
      "Epoch [1/10], Loss: 0.0324\n",
      "mlp_model Validation Loss: 0.0399\n",
      "Epoch [2/10], Loss: 0.0399\n",
      "mlp_model Validation Loss: 0.0373\n",
      "Epoch [3/10], Loss: 0.0348\n",
      "mlp_model Validation Loss: 0.0359\n",
      "Epoch [4/10], Loss: 0.0327\n",
      "mlp_model Validation Loss: 0.0346\n",
      "Epoch [5/10], Loss: 0.0303\n",
      "mlp_model Validation Loss: 0.0335\n",
      "Epoch [6/10], Loss: 0.0328\n",
      "mlp_model Validation Loss: 0.0326\n",
      "Epoch [7/10], Loss: 0.0279\n",
      "mlp_model Validation Loss: 0.0321\n",
      "Epoch [8/10], Loss: 0.0294\n",
      "mlp_model Validation Loss: 0.0313\n",
      "Epoch [9/10], Loss: 0.0231\n",
      "mlp_model Validation Loss: 0.0308\n",
      "Epoch [10/10], Loss: 0.0361\n",
      "mlp_model Validation Loss: 0.0304\n"
     ]
    },
    {
     "data": {
      "image/png": "[encoded data removed]",
      "text/plain": [
       "<Figure size 640x480 with 1 Axes>"
      ]
     },
     "metadata": {},
     "output_type": "display_data"
    },
    {
     "ename": "KeyError",
     "evalue": "'cnn_model'",
     "output_type": "error",
     "traceback": [
      "\u001b[31m---------------------------------------------------------------------------\u001b[39m",
      "\u001b[31mKeyError\u001b[39m                                  Traceback (most recent call last)",
      "\u001b[36mCell\u001b[39m\u001b[36m \u001b[39m\u001b[32mIn[23]\u001b[39m\u001b[32m, line 5\u001b[39m\n\u001b[32m      1\u001b[39m model_names = [\u001b[33m\"\u001b[39m\u001b[33mmlp_model\u001b[39m\u001b[33m\"\u001b[39m, \u001b[33m\"\u001b[39m\u001b[33mcnn_model\u001b[39m\u001b[33m\"\u001b[39m]\n\u001b[32m      3\u001b[39m \u001b[38;5;28;01mfor\u001b[39;00m model_name \u001b[38;5;129;01min\u001b[39;00m model_names:\n\u001b[32m----> \u001b[39m\u001b[32m5\u001b[39m     model = \u001b[43mmodels\u001b[49m\u001b[43m[\u001b[49m\u001b[43mmodel_name\u001b[49m\u001b[43m]\u001b[49m\n\u001b[32m      6\u001b[39m     optimizer = models[\u001b[33mf\u001b[39m\u001b[33m\"\u001b[39m\u001b[38;5;132;01m{\u001b[39;00mmodel_name\u001b[38;5;132;01m}\u001b[39;00m\u001b[33m_optimizer\u001b[39m\u001b[33m\"\u001b[39m]\n\u001b[32m      8\u001b[39m     epoch_losses = []\n",
      "\u001b[31mKeyError\u001b[39m: 'cnn_model'"
     ]
    }
   ],
   "source": [
    "model_names = [\"mlp_model\"]\n",
    "\n",
    "for model_name in model_names:\n",
    "\n",
    "    model = models[model_name]\n",
    "    optimizer = models[f\"{model_name}_optimizer\"]\n",
    "\n",
    "    epoch_losses = []\n",
    "    validation_losses = []\n",
    "\n",
    "    # if model_name == \"mlp_model\":\n",
    "        # wandb.watch(model, log_freq=100)\n",
    "\n",
    "    for epoch in range(num_epochs):\n",
    "        for data in train_loader:\n",
    "            img, _ = data\n",
    "            img = img.view(img.size(0), -1).to(device)\n",
    "            noisy_img = add_noise(img)\n",
    "\n",
    "            # Forward pass\n",
    "            outputs = model(noisy_img)\n",
    "            loss = criterion(outputs, img)\n",
    "\n",
    "            # Backward and optimize\n",
    "            optimizer.zero_grad()\n",
    "            loss.backward()\n",
    "            optimizer.step()\n",
    "\n",
    "        epoch_losses.append(loss.item())\n",
    "        print(f\"Epoch [{epoch+1}/{num_epochs}], Loss: {loss.item():.4f}\")\n",
    "\n",
    "        # Calculate validation loss\n",
    "        validation_loss = 0.0\n",
    "        with torch.no_grad():\n",
    "            for data in test_loader:\n",
    "                img, _ = data\n",
    "                img = img.view(img.size(0), -1).to(device)\n",
    "                noisy_img = add_noise(img)\n",
    "                outputs = model(noisy_img)\n",
    "                loss = criterion(outputs, img)\n",
    "                validation_loss += loss.item()\n",
    "\n",
    "        validation_loss /= len(test_loader)\n",
    "        validation_losses.append(validation_loss)\n",
    "        print(f\"{model_name} Validation Loss: {validation_loss:.4f}\")\n",
    "\n",
    "        # wandb.log({f\"{model_name}_train_loss\": loss.item()})\n",
    "        # wandb.log({f\"{model_name}_val_loss\": validation_loss})\n",
    "\n",
    "    plt.figure()\n",
    "    plt.plot(epoch_losses, label=\"Training Loss\")\n",
    "    plt.plot(validation_losses, label=\"Validation Loss\")\n",
    "    plt.xlabel(\"Epoch\")\n",
    "    plt.ylabel(\"Loss\")\n",
    "    plt.legend()\n",
    "    plt.show()"
   ]
  },
  {
   "cell_type": "code",
   "execution_count": 24,
   "metadata": {},
   "outputs": [
    {
     "data": {
      "image/png": "[encoded data removed]",
      "text/plain": [
       "<Figure size 640x480 with 15 Axes>"
      ]
     },
     "metadata": {},
     "output_type": "display_data"
    },
    {
     "name": "stdout",
     "output_type": "stream",
     "text": [
      "mlp_model Test Loss: 0.0002\n"
     ]
    },
    {
     "ename": "KeyError",
     "evalue": "'cnn_model'",
     "output_type": "error",
     "traceback": [
      "\u001b[31m---------------------------------------------------------------------------\u001b[39m",
      "\u001b[31mKeyError\u001b[39m                                  Traceback (most recent call last)",
      "\u001b[36mCell\u001b[39m\u001b[36m \u001b[39m\u001b[32mIn[24]\u001b[39m\u001b[32m, line 2\u001b[39m\n\u001b[32m      1\u001b[39m \u001b[38;5;28;01mfor\u001b[39;00m model_name \u001b[38;5;129;01min\u001b[39;00m model_names:\n\u001b[32m----> \u001b[39m\u001b[32m2\u001b[39m     model = \u001b[43mmodels\u001b[49m\u001b[43m[\u001b[49m\u001b[43mmodel_name\u001b[49m\u001b[43m]\u001b[49m\n\u001b[32m      4\u001b[39m     test_loss = \u001b[32m0.0\u001b[39m\n\u001b[32m      6\u001b[39m     model.eval()\n",
      "\u001b[31mKeyError\u001b[39m: 'cnn_model'"
     ]
    }
   ],
   "source": [
    "for model_name in model_names:\n",
    "    model = models[model_name]\n",
    "\n",
    "    test_loss = 0.0\n",
    "\n",
    "    model.eval()\n",
    "    with torch.no_grad():\n",
    "        for data in test_loader:\n",
    "            img, _ = data\n",
    "            img = img.view(img.size(0), -1).to(device)\n",
    "            noisy_img = add_noise(img)\n",
    "            outputs = model(noisy_img)\n",
    "\n",
    "            loss = criterion(outputs, img)\n",
    "            test_loss += loss.item()\n",
    "\n",
    "            # Visualize the first 5 images\n",
    "            for i in range(5):\n",
    "                plt.subplot(3, 5, i + 1)\n",
    "                plt.imshow(img[i].cpu().reshape(28, 28), cmap=\"gray\")\n",
    "                plt.title(\"Original\")\n",
    "                plt.axis(\"off\")\n",
    "\n",
    "                plt.subplot(3, 5, i + 6)\n",
    "                plt.imshow(noisy_img[i].cpu().reshape(28, 28), cmap=\"gray\")\n",
    "                plt.title(\"Noisy\")\n",
    "                plt.axis(\"off\")\n",
    "\n",
    "                plt.subplot(3, 5, i + 11)\n",
    "                plt.imshow(outputs[i].cpu().reshape(28, 28), cmap=\"gray\")\n",
    "                plt.title(\"Denoised\")\n",
    "                plt.axis(\"off\")\n",
    "            plt.show()\n",
    "            break\n",
    "\n",
    "        test_loss /= len(test_loader)   \n",
    "        print(f\"{model_name} Test Loss: {test_loss:.4f}\")"
   ]
  },
  {
   "cell_type": "code",
   "execution_count": 25,
   "metadata": {},
   "outputs": [
    {
     "name": "stdout",
     "output_type": "stream",
     "text": [
      "Epoch [1/10], Loss: 0.0292\n",
      "bn_model Validation Loss: 0.0078\n",
      "Epoch [2/10], Loss: 0.0065\n",
      "bn_model Validation Loss: 0.0053\n",
      "Epoch [3/10], Loss: 0.0053\n",
      "bn_model Validation Loss: 0.0047\n",
      "Epoch [4/10], Loss: 0.0048\n",
      "bn_model Validation Loss: 0.0044\n",
      "Epoch [5/10], Loss: 0.0045\n",
      "bn_model Validation Loss: 0.0040\n",
      "Epoch [6/10], Loss: 0.0042\n",
      "bn_model Validation Loss: 0.0039\n",
      "Epoch [7/10], Loss: 0.0041\n",
      "bn_model Validation Loss: 0.0038\n",
      "Epoch [8/10], Loss: 0.0040\n",
      "bn_model Validation Loss: 0.0036\n",
      "Epoch [9/10], Loss: 0.0039\n",
      "bn_model Validation Loss: 0.0041\n",
      "Epoch [10/10], Loss: 0.0038\n",
      "bn_model Validation Loss: 0.0036\n"
     ]
    },
    {
     "data": {
      "image/png": "[encoded data removed]",
      "text/plain": [
       "<Figure size 640x480 with 1 Axes>"
      ]
     },
     "metadata": {},
     "output_type": "display_data"
    },
    {
     "data": {
      "image/png": "[encoded data removed]",
      "text/plain": [
       "<Figure size 640x480 with 15 Axes>"
      ]
     },
     "metadata": {},
     "output_type": "display_data"
    },
    {
     "name": "stdout",
     "output_type": "stream",
     "text": [
      "bn_model Test Loss: 0.0000\n"
     ]
    }
   ],
   "source": [
    "# # Conv-ConvTranspose Autoencoder FOR BATCH NORMALIZATION. Batch normalization is a technique that normalizes the\n",
    "# inputs of each layer in a neural network by adjusting and scaling the activations. It helps in \n",
    "# Stabilizing training, faster convergance, and regularization effect.\n",
    "class AutoencoderBN(nn.Module):\n",
    "    def __init__(self):\n",
    "        super(AutoencoderBN, self).__init__()\n",
    "        # Encoder\n",
    "        self.encoder = nn.Sequential(\n",
    "            nn.Conv2d(1, 32, kernel_size=3, stride=2, padding=1),\n",
    "            nn.LeakyReLU(0.2, inplace=True),\n",
    "            nn.BatchNorm2d(32),\n",
    "            nn.Conv2d(32, 16, kernel_size=3, stride=2, padding=1),\n",
    "            nn.LeakyReLU(0.2, inplace=True),\n",
    "            nn.BatchNorm2d(16),\n",
    "            nn.Conv2d(16, 8, kernel_size=3),\n",
    "            nn.LeakyReLU(0.2, inplace=True),\n",
    "            nn.BatchNorm2d(8),\n",
    "        )\n",
    "        # Decoder\n",
    "        self.decoder = nn.Sequential(\n",
    "            nn.ConvTranspose2d(8, 16, kernel_size=3),\n",
    "            nn.LeakyReLU(0.2, inplace=True),\n",
    "            nn.BatchNorm2d(16),\n",
    "            nn.ConvTranspose2d(\n",
    "                16, 32, kernel_size=3, stride=2, padding=1, output_padding=1\n",
    "            ),\n",
    "            nn.LeakyReLU(0.2, inplace=True),\n",
    "            nn.BatchNorm2d(32),\n",
    "            nn.ConvTranspose2d(\n",
    "                32, 1, kernel_size=3, stride=2, padding=1, output_padding=1\n",
    "            ),\n",
    "            nn.Tanh(),\n",
    "        )\n",
    "\n",
    "    def forward(self, x):\n",
    "        x = x.view(-1, 1, 28, 28)  # Reshape input to (Batch_size, Channels, Height, Width)\n",
    "        x = self.encoder(x)\n",
    "        x = self.decoder(x)\n",
    "        return x.view(x.size(0), -1)  # Reshape back to (Batch_size, 784)\n",
    "\n",
    "\n",
    "bn_model = AutoencoderBN().to(device)\n",
    "\n",
    "# Use torchinfo summary to get model summary\n",
    "summary(bn_model, input_size=(batch_size, 28 * 28), device=device)\n",
    "\n",
    "optimizer = torch.optim.Adam(bn_model.parameters(), lr=learning_rate)\n",
    "\n",
    "epoch_losses = []\n",
    "validation_losses = []\n",
    "\n",
    "for epoch in range(num_epochs):\n",
    "    bn_model.train()\n",
    "    total_loss = 0.0\n",
    "    for data in train_loader:\n",
    "        img, _ = data\n",
    "        img = img.view(img.size(0), -1).to(device)\n",
    "        noisy_img = add_noise(img)\n",
    "        # Forward pass\n",
    "        outputs = bn_model(noisy_img)\n",
    "        loss = criterion(outputs, img)\n",
    "        # Backward and optimize\n",
    "        optimizer.zero_grad()\n",
    "        loss.backward()\n",
    "        optimizer.step()\n",
    "        total_loss += loss.item()\n",
    "\n",
    "    avg_epoch_loss = total_loss / len(train_loader)\n",
    "    epoch_losses.append(avg_epoch_loss)\n",
    "    print(f\"Epoch [{epoch+1}/{num_epochs}], Loss: {avg_epoch_loss:.4f}\")\n",
    "\n",
    "    # Calculate validation loss\n",
    "    bn_model.eval()\n",
    "    validation_loss = 0.0\n",
    "    with torch.no_grad():\n",
    "        for data in test_loader:\n",
    "            img, _ = data\n",
    "            img = img.view(img.size(0), -1).to(device)\n",
    "            noisy_img = add_noise(img)\n",
    "            outputs = bn_model(noisy_img)\n",
    "            loss = criterion(outputs, img)\n",
    "            validation_loss += loss.item()\n",
    "\n",
    "    validation_loss /= len(test_loader)\n",
    "    validation_losses.append(validation_loss)\n",
    "    print(f\"bn_model Validation Loss: {validation_loss:.4f}\")\n",
    "\n",
    "plt.figure()\n",
    "plt.plot(epoch_losses, label=\"Training Loss\")\n",
    "plt.plot(validation_losses, label=\"Validation Loss\")\n",
    "plt.xlabel(\"Epoch\")\n",
    "plt.ylabel(\"Loss\")\n",
    "plt.legend()\n",
    "plt.show()\n",
    "\n",
    "test_loss = 0.0\n",
    "\n",
    "bn_model.eval()\n",
    "with torch.no_grad():\n",
    "    for data in test_loader:\n",
    "        img, _ = data\n",
    "        img = img.view(img.size(0), -1).to(device)\n",
    "        noisy_img = add_noise(img)\n",
    "        outputs = bn_model(noisy_img)\n",
    "\n",
    "        loss = criterion(outputs, img)\n",
    "        test_loss += loss.item()\n",
    "\n",
    "        # Visualize the first 5 images\n",
    "        for i in range(5):\n",
    "            plt.subplot(3, 5, i + 1)\n",
    "            plt.imshow(img[i].cpu().reshape(28, 28), cmap=\"gray\")\n",
    "            plt.title(\"Original\")\n",
    "            plt.axis(\"off\")\n",
    "\n",
    "            plt.subplot(3, 5, i + 6)\n",
    "            plt.imshow(noisy_img[i].cpu().reshape(28, 28), cmap=\"gray\")\n",
    "            plt.title(\"Noisy\")\n",
    "            plt.axis(\"off\")\n",
    "\n",
    "            plt.subplot(3, 5, i + 11)\n",
    "            plt.imshow(outputs[i].cpu().reshape(28, 28), cmap=\"gray\")\n",
    "            plt.title(\"Denoised\")\n",
    "            plt.axis(\"off\")\n",
    "        plt.show()\n",
    "        break\n",
    "\n",
    "    test_loss /= len(test_loader)   \n",
    "    print(f\"bn_model Test Loss: {test_loss:.4f}\")"
   ]
  },
  {
   "cell_type": "markdown",
   "metadata": {},
   "source": [
    "- [ ] Try adapting your autoencoder to perform \"in-painting\":\n",
    "  - Obscure sections of the image by zeroing out the values in a region of pixels\n",
    "  - Train your autoencoder to reconstruct the obscured section\n"
   ]
  },
  {
   "cell_type": "markdown",
   "metadata": {},
   "source": [
    "## Artifact and Metrics Logging\n"
   ]
  },
  {
   "cell_type": "markdown",
   "metadata": {},
   "source": [
    "Reminder: document all your experiments by logging inputs (code, data, parameter values) and outputs (model predictions, performance metrics).\n"
   ]
  },
  {
   "cell_type": "markdown",
   "metadata": {},
   "source": [
    "### 🚦 Checkpoint: Stop\n",
    "\n",
    "- [ ] Uncomment this code\n",
    "- [ ] Complete the feedback form\n",
    "- [ ] Run the cell to log your responses and record your stop time:"
   ]
  },
  {
   "cell_type": "code",
   "execution_count": null,
   "metadata": {},
   "outputs": [],
   "source": [
    "# deep_atlas.log_feedback(\n",
    "#     {\n",
    "#         # How long were you actively focused on this section? (HH:MM)\n",
    "#         \"active_time\": FILL_THIS_IN,\n",
    "#         # Did you feel finished with this section (Yes/No):\n",
    "#         \"finished\": FILL_THIS_IN,\n",
    "#         # How much did you enjoy this section? (1–5)\n",
    "#         \"enjoyment\": FILL_THIS_IN,\n",
    "#         # How useful was this section? (1–5)\n",
    "#         \"usefulness\": FILL_THIS_IN,\n",
    "#         # Did you skip any steps?\n",
    "#         \"skipped_steps\": [FILL_THIS_IN],\n",
    "#         # Any obvious opportunities for improvement?\n",
    "#         \"suggestions\": [FILL_THIS_IN],\n",
    "#     }\n",
    "# )\n",
    "# deep_atlas.log_stop_time()"
   ]
  },
  {
   "cell_type": "markdown",
   "metadata": {},
   "source": [
    "## You did it!"
   ]
  }
 ],
 "metadata": {
  "kernelspec": {
   "display_name": "mli-2025-05-05-coursework-rNXVWyyx",
   "language": "python",
   "name": "python3"
  },
  "language_info": {
   "codemirror_mode": {
    "name": "ipython",
    "version": 3
   },
   "file_extension": ".py",
   "mimetype": "text/x-python",
   "name": "python",
   "nbconvert_exporter": "python",
   "pygments_lexer": "ipython3",
   "version": "3.11.6"
  }
 },
 "nbformat": 4,
 "nbformat_minor": 2
}
