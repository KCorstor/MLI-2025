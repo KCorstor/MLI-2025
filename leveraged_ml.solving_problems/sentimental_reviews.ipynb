{
 "cells": [
  {
   "cell_type": "markdown",
   "metadata": {},
   "source": [
    "# Yoga: Sentimental Reviews\n"
   ]
  },
  {
   "cell_type": "markdown",
   "metadata": {},
   "source": [
    "## Standard Deep Atlas Exercise Set Up"
   ]
  },
  {
   "cell_type": "markdown",
   "metadata": {},
   "source": [
    "- [ ] Ensure you are using the coursework Pipenv environment and kernel ([instructions](../SETUP.md))\n",
    "- [ ] Apply the standard Deep Atlas environment setup process by running this cell:"
   ]
  },
  {
   "cell_type": "code",
   "execution_count": null,
   "metadata": {},
   "outputs": [],
   "source": [
    "import sys, os\n",
    "sys.path.insert(0, os.path.join('..', 'includes'))\n",
    "import deep_atlas"
   ]
  },
  {
   "cell_type": "markdown",
   "metadata": {},
   "source": [
    "### 🚦 Checkpoint: Start\n",
    "\n",
    "- [ ] Run this cell to record your start time:"
   ]
  },
  {
   "cell_type": "code",
   "execution_count": null,
   "metadata": {},
   "outputs": [],
   "source": [
    "deep_atlas.log_start_time()"
   ]
  },
  {
   "cell_type": "markdown",
   "metadata": {},
   "source": [
    "## Goals:\n",
    "\n",
    "- Develop a machine learning model capable of classifying the sentiment of product reviews into categories such as positive, negative, and neutral.\n",
    "\n",
    "## Dataset:\n",
    "\n",
    "Use the [Amazon Product Review Dataset](https://cseweb.ucsd.edu/~jmcauley/datasets/amazon_v2/#complete-data), which includes reviews from various product categories. This dataset is widely used in sentiment analysis tasks and provides a rich set of real-world text data with varying sentiments. For simplicity and time, you may focus on a subset of this dataset, such as reviews from a specific category.\n",
    "\n",
    "Other data sets:\n",
    "\n",
    "- [IMDB Dataset](https://ai.stanford.edu/~amaas/data/sentiment/)\n",
    "- [Tweet Emotion Dataset](https://www.kaggle.com/datasets/ashkhagan/smile-twitter-emotion-dataset) — Not film-based but allows you to produce a similar classification model.\n",
    "\n",
    "## Base models:\n",
    "\n",
    "- [BERT](https://huggingface.co/docs/transformers/model_doc/bert) (Bidirectional Encoder Representations from Transformers): A powerful language model that has revolutionized NLP tasks. It's pre-trained on a large corpus and can be fine-tuned for specific tasks like sentiment analysis.\n",
    "- [DistilBERT](https://huggingface.co/docs/transformers/model_doc/distilbert): A lighter version of BERT that retains most of its performance but is faster and less resource-intensive, making it suitable for training on laptops and limited-resource environments.\n",
    "\n",
    "## Extra Credit\n",
    "\n",
    "- [ ] Identify which words were most highly correlated with a sentiment.\n",
    "  - Assess whether the correlations can be used to build a more efficient heuristic-based alternative to your original classifier\n"
   ]
  },
  {
   "cell_type": "markdown",
   "metadata": {},
   "source": [
    "### 🚦 Checkpoint: Stop\n",
    "\n",
    "- [ ] Uncomment this code\n",
    "- [ ] Complete the feedback form\n",
    "- [ ] Run the cell to log your responses and record your stop time:"
   ]
  },
  {
   "cell_type": "code",
   "execution_count": null,
   "metadata": {},
   "outputs": [],
   "source": [
    "# deep_atlas.log_feedback(\n",
    "#     {\n",
    "#         # How long were you actively focused on this section? (HH:MM)\n",
    "#         \"active_time\": FILL_THIS_IN,\n",
    "#         # Did you feel finished with this section (Yes/No):\n",
    "#         \"finished\": FILL_THIS_IN,\n",
    "#         # How much did you enjoy this section? (1–5)\n",
    "#         \"enjoyment\": FILL_THIS_IN,\n",
    "#         # How useful was this section? (1–5)\n",
    "#         \"usefulness\": FILL_THIS_IN,\n",
    "#         # Did you skip any steps?\n",
    "#         \"skipped_steps\": [FILL_THIS_IN],\n",
    "#         # Any obvious opportunities for improvement?\n",
    "#         \"suggestions\": [FILL_THIS_IN],\n",
    "#     }\n",
    "# )\n",
    "# deep_atlas.log_stop_time()"
   ]
  },
  {
   "cell_type": "markdown",
   "metadata": {},
   "source": [
    "## You did it!"
   ]
  }
 ],
 "metadata": {
  "language_info": {
   "name": "python"
  }
 },
 "nbformat": 4,
 "nbformat_minor": 2
}
